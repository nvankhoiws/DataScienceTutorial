{
 "cells": [
  {
   "cell_type": "markdown",
   "metadata": {},
   "source": [
    "##### Import library and parse csv file into Dataframe using pandas"
   ]
  },
  {
   "cell_type": "code",
   "execution_count": 2,
   "metadata": {},
   "outputs": [],
   "source": [
    "import pandas\n",
    "food_info = pandas.read_csv('food_info.csv')"
   ]
  },
  {
   "cell_type": "markdown",
   "metadata": {
    "collapsed": true
   },
   "source": [
    "##### Get header row, parse it into a list and assign it to a list named col_names"
   ]
  },
  {
   "cell_type": "code",
   "execution_count": 8,
   "metadata": {},
   "outputs": [],
   "source": [
    "col_names = food_info.columns.tolist()\n",
    "print(col_names)"
   ]
  },
  {
   "cell_type": "markdown",
   "metadata": {},
   "source": [
    "##### Display the first three rows of *food_info*"
   ]
  },
  {
   "cell_type": "code",
   "execution_count": 11,
   "metadata": {
    "collapsed": true
   },
   "outputs": [
    {
     "name": "stdout",
     "output_type": "stream",
     "text": [
      "   NDB_No                 Shrt_Desc  Water_(g)  Energ_Kcal  Protein_(g)  \\\n",
      "0    1001          BUTTER WITH SALT      15.87         717         0.85   \n",
      "1    1002  BUTTER WHIPPED WITH SALT      15.87         717         0.85   \n",
      "2    1003      BUTTER OIL ANHYDROUS       0.24         876         0.28   \n",
      "\n",
      "   Lipid_Tot_(g)  Ash_(g)  Carbohydrt_(g)  Fiber_TD_(g)  Sugar_Tot_(g)  \\\n",
      "0          81.11     2.11            0.06           0.0           0.06   \n",
      "1          81.11     2.11            0.06           0.0           0.06   \n",
      "2          99.48     0.00            0.00           0.0           0.00   \n",
      "\n",
      "        ...        Vit_A_IU  Vit_A_RAE  Vit_E_(mg)  Vit_D_mcg  Vit_D_IU  \\\n",
      "0       ...          2499.0      684.0        2.32        1.5      60.0   \n",
      "1       ...          2499.0      684.0        2.32        1.5      60.0   \n",
      "2       ...          3069.0      840.0        2.80        1.8      73.0   \n",
      "\n",
      "   Vit_K_(mcg)  FA_Sat_(g)  FA_Mono_(g)  FA_Poly_(g)  Cholestrl_(mg)  \n",
      "0          7.0      51.368       21.021        3.043           215.0  \n",
      "1          7.0      50.489       23.426        3.012           219.0  \n",
      "2          8.6      61.924       28.732        3.694           256.0  \n",
      "\n",
      "[3 rows x 36 columns]\n"
     ]
    }
   ],
   "source": [
    "print(food_info.loc[0:2])"
   ]
  },
  {
   "cell_type": "markdown",
   "metadata": {},
   "source": [
    "##### Pair-wise fashion of computation between columns"
   ]
  },
  {
   "cell_type": "code",
   "execution_count": 21,
   "metadata": {
    "collapsed": true
   },
   "outputs": [],
   "source": [
    "sodium_grams = food_info['Sodium_(mg)'] / 1000\n",
    "sugar_milligrams = food_info['Sugar_Tot_(g)'] * 1000\n",
    "grams_of_protein_per_gram_of_water = food_info['Protein_(g)'] /  food_info['Water_(g)']\n",
    "milligrams_of_calcium_and_iron = food_info['Calcium_(mg)'] +  food_info['Iron_(mg)']"
   ]
  },
  {
   "cell_type": "code",
   "execution_count": 22,
   "metadata": {
    "collapsed": true
   },
   "outputs": [
    {
     "name": "stdout",
     "output_type": "stream",
     "text": [
      "0       -59.1325\n",
      "1       -59.1325\n",
      "2       -74.0500\n",
      "3        21.2450\n",
      "4        24.2200\n",
      "5        20.7400\n",
      "6        21.4050\n",
      "7        28.4600\n",
      "8        22.7150\n",
      "9        23.7900\n",
      "10       23.4375\n",
      "11       19.0150\n",
      "12       18.4925\n",
      "13       20.4625\n",
      "14       19.1975\n",
      "15       24.0150\n",
      "16      -13.8200\n",
      "17       29.1300\n",
      "18       12.4600\n",
      "19       27.8450\n",
      "20       -2.8325\n",
      "21       29.3000\n",
      "22       35.3650\n",
      "23       19.6625\n",
      "24       26.2500\n",
      "25       27.5775\n",
      "26       24.7200\n",
      "27       36.5800\n",
      "28       34.3700\n",
      "29       24.2900\n",
      "          ...   \n",
      "8588     12.5250\n",
      "8589      1.8500\n",
      "8590      0.4500\n",
      "8591      6.0000\n",
      "8592     10.1450\n",
      "8593     18.0750\n",
      "8594      0.8500\n",
      "8595     52.9750\n",
      "8596      3.1750\n",
      "8597     42.1750\n",
      "8598    -58.3500\n",
      "8599    -75.0000\n",
      "8600      0.0000\n",
      "8601     -6.4650\n",
      "8602     21.0250\n",
      "8603      8.8000\n",
      "8604      0.0000\n",
      "8605      0.5775\n",
      "8606      0.6700\n",
      "8607      0.1525\n",
      "8608     17.9100\n",
      "8609      3.1250\n",
      "8610      0.9450\n",
      "8611    148.9325\n",
      "8612     32.5750\n",
      "8613     18.1750\n",
      "8614     40.4500\n",
      "8615      0.0000\n",
      "8616     31.1500\n",
      "8617     39.2250\n",
      "Length: 8618, dtype: float64\n"
     ]
    }
   ],
   "source": [
    "# Compute *nutritional index* = 2 * Protein_(g)  -  0.75 * Lipid_Tot_(g)\n",
    "weighted_protein = food_info['Protein_(g)'] * 2\n",
    "weighted_fat = food_info['Lipid_Tot_(g)'] * (-0.75)\n",
    "initial_rating = weighted_protein + weighted_fat\n",
    "print(initial_rating)"
   ]
  },
  {
   "cell_type": "code",
   "execution_count": null,
   "metadata": {
    "collapsed": true
   },
   "outputs": [],
   "source": []
  }
 ],
 "metadata": {
  "kernelspec": {
   "display_name": "Python 3",
   "language": "python",
   "name": "python3"
  },
  "language_info": {
   "codemirror_mode": {
    "name": "ipython",
    "version": 3
   },
   "file_extension": ".py",
   "mimetype": "text/x-python",
   "name": "python",
   "nbconvert_exporter": "python",
   "pygments_lexer": "ipython3",
   "version": "3.6.1"
  }
 },
 "nbformat": 4,
 "nbformat_minor": 2
}
