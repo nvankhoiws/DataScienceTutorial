{
 "cells": [
  {
   "cell_type": "code",
   "execution_count": 2,
   "metadata": {},
   "outputs": [
    {
     "ename": "NameError",
     "evalue": "name 'nfl_suspensions' is not defined",
     "output_type": "error",
     "traceback": [
      "\u001b[1;31m---------------------------------------------------------------------------\u001b[0m",
      "\u001b[1;31mNameError\u001b[0m                                 Traceback (most recent call last)",
      "\u001b[1;32m<ipython-input-2-7aefb35d8bbf>\u001b[0m in \u001b[0;36m<module>\u001b[1;34m()\u001b[0m\n\u001b[0;32m     13\u001b[0m         \u001b[1;32mreturn\u001b[0m \u001b[0mself\u001b[0m\u001b[1;33m.\u001b[0m\u001b[0myear\u001b[0m\u001b[1;33m\u001b[0m\u001b[0m\n\u001b[0;32m     14\u001b[0m \u001b[1;33m\u001b[0m\u001b[0m\n\u001b[1;32m---> 15\u001b[1;33m \u001b[0mmissing_year\u001b[0m \u001b[1;33m=\u001b[0m \u001b[0mSuspension\u001b[0m\u001b[1;33m(\u001b[0m\u001b[0mnfl_suspensions\u001b[0m\u001b[1;33m[\u001b[0m\u001b[1;36m22\u001b[0m\u001b[1;33m]\u001b[0m\u001b[1;33m)\u001b[0m\u001b[1;33m\u001b[0m\u001b[0m\n\u001b[0m\u001b[0;32m     16\u001b[0m \u001b[0mtwenty_third_year\u001b[0m \u001b[1;33m=\u001b[0m \u001b[0mmissing_year\u001b[0m\u001b[1;33m.\u001b[0m\u001b[0mget_year\u001b[0m\u001b[1;33m(\u001b[0m\u001b[1;33m)\u001b[0m\u001b[1;33m\u001b[0m\u001b[0m\n",
      "\u001b[1;31mNameError\u001b[0m: name 'nfl_suspensions' is not defined"
     ]
    }
   ],
   "source": [
    "class Suspension:\n",
    "    def __init__(self, row):\n",
    "        self.name=row[0]\n",
    "        self.team=row[1]\n",
    "        self.games=row[2]\n",
    "        self.year=self.parse_year(row[5])\n",
    "    def parse_year(self, year_string):\n",
    "        try:\n",
    "            return int(year_string)\n",
    "        except Exception as e:\n",
    "            return 0\n",
    "    def get_year(self):\n",
    "        return self.year\n",
    "    \n",
    "missing_year = Suspension(nfl_suspensions[22])\n",
    "twenty_third_year = missing_year.get_year()"
   ]
  }
 ],
 "metadata": {
  "kernelspec": {
   "display_name": "Python 3",
   "language": "python",
   "name": "python3"
  },
  "language_info": {
   "codemirror_mode": {
    "name": "ipython",
    "version": 3
   },
   "file_extension": ".py",
   "mimetype": "text/x-python",
   "name": "python",
   "nbconvert_exporter": "python",
   "pygments_lexer": "ipython3",
   "version": "3.6.1"
  }
 },
 "nbformat": 4,
 "nbformat_minor": 2
}
