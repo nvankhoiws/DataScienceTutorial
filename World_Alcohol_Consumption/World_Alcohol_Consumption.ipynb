{
 "cells": [
  {
   "cell_type": "code",
   "execution_count": 28,
   "metadata": {},
   "outputs": [
    {
     "name": "stdout",
     "output_type": "stream",
     "text": [
      "\n",
      "\n",
      "\n",
      "\n",
      "\n",
      "\n",
      "The alcohol consumption of the world in year 1989 over a citizen for all type of drinking \n",
      "{'Viet Nam': 0.16, 'Uruguay': 7.4399999999999995, \"Cte d'Ivoire\": 2.2000000000000002, 'Colombia': 6.9600000000000009, 'Saint Kitts and Nevis': 4.6500000000000004, 'Guatemala': 2.4700000000000002, 'Mauritius': 3.54, 'Angola': 2.2799999999999998, 'Antigua and Barbuda': 4.6900000000000004, 'Nigeria': 6.7400000000000002, 'Botswana': 4.6299999999999999, \"Lao People's Democratic Republic\": 5.9500000000000002, 'Afghanistan': 0.0, 'Guinea-Bissau': 2.6699999999999999, 'Costa Rica': 5.3999999999999995, 'Seychelles': 3.3000000000000003, 'Norway': 5.0800000000000001, 'Kenya': 2.8199999999999998, 'Myanmar': 0.16, 'Romania': 8.4100000000000001, 'Turkey': 0.71999999999999997, 'Comoros': 0.10999999999999999, 'Tunisia': 0.94999999999999996, 'United Kingdom of Great Britain and Northern Ireland': 9.9900000000000002, 'Bahrain': 4.8899999999999997, 'Italy': 10.899999999999999, 'Sierra Leone': 4.3800000000000008, 'Micronesia (Federated States of)': 0.0, 'Mauritania': 0.02, 'Russian Federation': 5.3499999999999996, 'Egypt': 0.42000000000000004, 'Sweden': 7.4699999999999998, 'Qatar': 1.4500000000000002, 'Burkina Faso': 3.9900000000000002, 'Austria': 13.9, 'Czech Republic': 13.009999999999998, 'Ukraine': 5.3200000000000003, 'China': 3.3300000000000001, 'Lithuania': 0.0, 'Zimbabwe': 4.9199999999999999, 'Trinidad and Tobago': 4.6799999999999997, 'Mexico': 5.0999999999999996, 'Nicaragua': 2.5, 'Malta': 7.1299999999999999, 'Switzerland': 13.849999999999998, 'Finland': 9.4199999999999982, 'Saudi Arabia': 0.14999999999999999, 'Kuwait': 0.0, 'El Salvador': 1.77, 'Suriname': 3.6699999999999999, 'Croatia': 10.92, 'Somalia': 0.0, 'Syrian Arab Republic': 0.54000000000000004, 'Iran (Islamic Republic of)': 0.0, 'Papua New Guinea': 1.1099999999999999, 'Libya': 0.0, 'Bolivia (Plurinational State of)': 3.0499999999999998, 'Iraq': 0.75, 'Namibia': 0.23999999999999999, 'Uganda': 7.7999999999999998, 'Togo': 2.2199999999999998, 'Madagascar': 1.3799999999999999, 'Mali': 0.66999999999999993, 'Pakistan': 0.02, 'Cameroon': 6.3599999999999994, 'Jamaica': 3.0299999999999998, 'Malawi': 1.02, 'Netherlands': 10.030000000000001, 'Ireland': 11.789999999999999, 'Sri Lanka': 0.14000000000000001, 'Democratic Republic of the Congo': 1.9199999999999999, 'Bahamas': 12.290000000000001, 'Lebanon': 3.9399999999999999, 'Bulgaria': 11.43, 'Eritrea': 0.28999999999999998, 'Niger': 0.11, 'Luxembourg': 15.210000000000001, 'Indonesia': 0.070000000000000007, 'Equatorial Guinea': 6.4900000000000002, \"Democratic People's Republic of Korea\": 3.6799999999999997, 'Chile': 8.6499999999999986, 'Central African Republic': 2.5199999999999996, 'Spain': 13.280000000000001, 'Gambia': 1.6300000000000001, 'Ghana': 1.8599999999999999, 'Brazil': 5.5199999999999996, 'Portugal': 15.350000000000001, 'Burundi': 8.1599999999999984, 'Belgium': 11.609999999999999, 'Paraguay': 6.5099999999999998, 'Hungary': 16.289999999999999, 'Greece': 10.15, 'India': 1.6599999999999999, 'Kyrgyzstan': 4.2799999999999994, 'France': 16.050000000000001, 'Zambia': 3.3700000000000001, 'Israel': 2.0300000000000002, 'Swaziland': 6.6799999999999997, 'Canada': 9.0, 'Cambodia': 0.33000000000000002, 'Cabo Verde': 2.79, 'United Arab Emirates': 4.4299999999999997, 'Peru': 4.9900000000000002, 'Solomon Islands': 0.58000000000000007, 'United Republic of Tanzania': 5.9000000000000004, 'Chad': 0.30000000000000004, 'Cuba': 4.3700000000000001, 'Guyana': 9.9400000000000013, 'Mongolia': 2.5899999999999999, 'Australia': 12.09, 'Sao Tome and Principe': 2.5699999999999998, 'Slovenia': 12.969999999999999, 'Benin': 1.3800000000000001, 'Algeria': 0.40000000000000002, 'Venezuela (Bolivarian Republic of)': 7.8700000000000001, 'Ecuador': 2.54, 'Iceland': 5.3599999999999994, 'Liberia': 5.6100000000000003, 'Yemen': 0.20000000000000001, 'Sudan': 0.14999999999999999, 'Belarus': 7.9799999999999995, 'Cyprus': 9.2899999999999991, 'United States of America': 9.1600000000000001, 'Vanuatu': 1.74, 'Bangladesh': 0.0, 'Philippines': 3.7799999999999998, 'Slovakia': 12.700000000000001, 'Poland': 9.3300000000000001, 'Senegal': 0.6100000000000001, 'Honduras': 2.1499999999999999, 'Bhutan': 0.31, 'Fiji': 1.9600000000000002, 'Belize': 0.0, 'Lesotho': 2.02, 'Singapore': 1.6100000000000001, 'Guinea': 0.20999999999999999, 'Brunei Darussalam': 2.7800000000000002, 'Congo': 3.1500000000000004, 'Thailand': 3.9199999999999999, 'Djibouti': 0.87, 'Gabon': 9.3399999999999999, 'Dominican Republic': 4.5300000000000002, 'Morocco': 0.69999999999999996, 'New Zealand': 11.52, 'Denmark': 11.649999999999999, 'Samoa': 2.6299999999999999, 'Argentina': 10.82, 'Oman': 1.03, 'Kiribati': 0.47999999999999998, 'Albania': 1.73, 'Nepal': 0.029999999999999999, 'Malaysia': 0.68000000000000005, 'Latvia': 7.0399999999999991, 'Haiti': 5.8099999999999996, 'South Africa': 9.2100000000000009, 'Republic of Korea': 9.620000000000001, 'Japan': 7.7400000000000002, 'Mozambique': 0.39000000000000001, 'Ethiopia': 0.8600000000000001, 'Panama': 4.6000000000000005, 'Germany': 14.640000000000001, 'Saint Lucia': 11.619999999999999, 'Rwanda': 7.5499999999999989, 'Jordan': 0.19}\n",
      "\n",
      "\n",
      "highest_key\t\tHungary\n",
      "highest_value\t\t16.29\n"
     ]
    }
   ],
   "source": [
    "#Make the raw data table\n",
    "import numpy as np\n",
    "world_alcohol = np.genfromtxt('world_alcohol.csv', dtype='U75', delimiter=',')\n",
    "# print('raw world_alcohol\\n' + str(world_alcohol))\n",
    "\n",
    "print('\\n')\n",
    "#Make the executable data table\n",
    "world_alcohol_header = world_alcohol[0]\n",
    "world_alcohol = world_alcohol[1:]\n",
    "# print('executable world_alcohol\\n' + str(world_alcohol))\n",
    "\n",
    "print('\\n')\n",
    "#Calculate the alcohol consumption(sum, average, max) for all countries in the world\n",
    "totals = {}\n",
    "countries = []\n",
    "for country in world_alcohol:\n",
    "    if country[2] not in countries:\n",
    "        countries.append(country[2])\n",
    "        \n",
    "def world_alcohol_consumption(year):\n",
    "    total = dict()\n",
    "    y = str(year)\n",
    "    for country in countries:\n",
    "        bool_year_country = (world_alcohol[:,0] == y) & (world_alcohol[:,2] == country)\n",
    "        matrix_year_country = world_alcohol[bool_year_country,:]\n",
    "#         print('matrix_year_country' + str(matrix_year_country))\n",
    "        #Change the consumption in fifth column\n",
    "        bool_fifth_col = matrix_year_country[:,4] == ''\n",
    "        matrix_year_country[bool_fifth_col,4] = 0\n",
    "        #Sum of all type of drinkings\n",
    "        fifth_col_matrix = matrix_year_country[:,4]\n",
    "        fifth_col_matrix = fifth_col_matrix.astype(float)\n",
    "        sum_of_consumption = fifth_col_matrix.sum()\n",
    "        total[country] = sum_of_consumption\n",
    "    return total\n",
    "\n",
    "print('\\n')\n",
    "#Calculate the total consumption of an average citizen of each country consumpt in specific year\n",
    "specified_year = 1989\n",
    "totals = world_alcohol_consumption(specified_year)\n",
    "print('The alcohol consumption of the world in year '\n",
    "      + str(specified_year) + ' over a citizen for all type of drinking \\n'+ str(totals))\n",
    "\n",
    "\n",
    "print('\\n')\n",
    "#Find the country that has the highest total consumption in the specific year\n",
    "highest_value = 0\n",
    "highest_key = None\n",
    "for key, val in totals.items():\n",
    "    if val > highest_value:\n",
    "        highest_value = val\n",
    "        highest_key = key\n",
    "print('highest_key\\t\\t' + str(highest_key))\n",
    "print('highest_value\\t\\t' + str(highest_value))"
   ]
  },
  {
   "cell_type": "code",
   "execution_count": null,
   "metadata": {
    "collapsed": true
   },
   "outputs": [],
   "source": []
  }
 ],
 "metadata": {
  "kernelspec": {
   "display_name": "Python 3",
   "language": "python",
   "name": "python3"
  },
  "language_info": {
   "codemirror_mode": {
    "name": "ipython",
    "version": 3
   },
   "file_extension": ".py",
   "mimetype": "text/x-python",
   "name": "python",
   "nbconvert_exporter": "python",
   "pygments_lexer": "ipython3",
   "version": "3.6.1"
  }
 },
 "nbformat": 4,
 "nbformat_minor": 2
}
